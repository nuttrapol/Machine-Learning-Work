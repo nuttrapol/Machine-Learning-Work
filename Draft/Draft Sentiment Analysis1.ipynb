{
 "cells": [
  {
   "cell_type": "code",
   "execution_count": 1,
   "metadata": {},
   "outputs": [
    {
     "name": "stderr",
     "output_type": "stream",
     "text": [
      "Using TensorFlow backend.\n"
     ]
    }
   ],
   "source": [
    "# ใช้ตัดคำภาษาไทย\n",
    "import deepcut\n",
    "\n",
    "# ใช้งาน regex\n",
    "import re\n",
    "\n",
    "# จัดการเกี่ยวกับ array\n",
    "import numpy as np\n",
    "\n",
    "import random\n",
    "from sklearn.model_selection import train_test_split\n",
    "import numpy\n",
    "\n",
    "# สำหรับทำ classify และทดสอบโมเดล\n",
    "import nltk\n",
    "from nltk import FreqDist, precision, recall, f_measure, NaiveBayesClassifier\n",
    "from nltk.classify import apply_features\n",
    "from nltk.classify import util\n",
    "\n",
    "# สำหรับสร้างชุดข้อมูลสำหรับ train และ test เพื่อทดสอบประสิทธิภาพ\n",
    "from sklearn.model_selection import KFold\n",
    "from sklearn.metrics import accuracy_score\n",
    "import collections, itertools"
   ]
  },
  {
   "cell_type": "code",
   "execution_count": 2,
   "metadata": {},
   "outputs": [],
   "source": [
    "data_pos = [line.strip() for line in open(\"sentiment-assignment/pos.txt\", 'r', encoding=\"utf8\")]\n",
    "data_neg = [line.strip() for line in open(\"sentiment-assignment/neg.txt\", 'r', encoding=\"utf8\")]\n",
    "data_neu = [line.strip() for line in open(\"sentiment-assignment/neu.txt\", 'r', encoding=\"utf8\")]"
   ]
  },
  {
   "cell_type": "code",
   "execution_count": 3,
   "metadata": {},
   "outputs": [],
   "source": [
    "random.shuffle(data_pos)\n",
    "random.shuffle(data_neg)\n",
    "random.shuffle(data_neu)"
   ]
  },
  {
   "cell_type": "code",
   "execution_count": 4,
   "metadata": {},
   "outputs": [
    {
     "data": {
      "text/plain": [
       "['รอไป เหมือน MAYBELLINE รุ่นนั้น ที่เฉดแบบนี้ เมิงลืมแน่ๆ เด๋วส่งให้ดู',\n",
       " 'ต้องลองๆ',\n",
       " 'เรานี่กินจนติดไม่รู้ตัว เบียร์ก็กินสิงห์ น้ำก็กินสิงห์ ตอนนี้อยากกินพรีเซนเตอร์อะ อิอิ',\n",
       " 'ทำไงดี ไดอารี่ สีชมพู ซื้อไม่เป็น',\n",
       " 'ลดน้ำหนักอยู่',\n",
       " 'ตอนเย็นก้อได้',\n",
       " 'ติดใจพี่ช้างมากกว่า ไม่เคยทำให้ผิดหวัง กินทีไรเมาทุกที😂😂รสชาติดีต่อใจ',\n",
       " 'ขอบคุณพี่ ๆ ทุกท่าน ที่ช่วยเป็นกระบอกเสียงแทนพวกเรา ผู้ใช้บุหรี่ไฟฟ้าทุกคนครับ',\n",
       " 'ใครว่า \"ขายฝัน\" #อนาคตใหม่ ของ #บัตรทอง \"ต้องใช้เงินเท่าไหร่\" แล้วเอา \"เงินจากไหน\" มาฟังกันชัดๆ จากปาก ธนาธร แห่ง #พรรคอนาคตใหม่\\\\7\\U0001f9e1 แจงละเอียดยิบ ใครยังสงสัย ส่งให้ฟังกันไปเลย 😉👌',\n",
       " 'ว่างมั้ย ไปกินบาบีก้อนกัน']"
      ]
     },
     "execution_count": 4,
     "metadata": {},
     "output_type": "execute_result"
    }
   ],
   "source": [
    "data_pos[:10]"
   ]
  },
  {
   "cell_type": "code",
   "execution_count": 5,
   "metadata": {},
   "outputs": [
    {
     "data": {
      "text/plain": [
       "['โคตรบิดเบือนเลย ห่าลาก',\n",
       " 'B1 ไม่ชอบกินไอติมอะ B2',\n",
       " 'ม่ายไหวๆจิงๆ 5555 เอาแอคคอร์ดที่ยอดขายเน่าในเมกา มาจับทุบหน้าทุบตูด ทำไมฮอนด้าออกแบบล้าหลังไงไม่รุ้ ชอบฮอนด้ามาตลอดนะ แต่มันไม่สวยจิงๆอ่ะแล้วแต่คนชอบละกันคับ',\n",
       " 'คิดว่าแป้ง cute press marine magic (สีเบจอ่อน) เป็นการลงทุนที่คุ้มค่ากว่า skinfood peach cotton powder ค่ะ แป้งละ…',\n",
       " 'รถสตาร์ทไม่ติดซะแล้ว แง้ อะไหล่มาสด้าก็แพงด้วย ขอให้เป็นที่แบต เพราะถ้าเป็นที่อย่างอื่นก็ขอลาตรงนี้ ....',\n",
       " 'กาวเหนียวกางเกงในไม่ขาดหรอกค่ะแต่ผ้าอนามัยจะขาดติดกางเกงใน แต่ใช้แบบเต็มที่มันไม่ติดหรอก',\n",
       " 'เทอลดหุ่นอยู่นะ',\n",
       " 'ชาชีสเอ็มเคไม่อร่อยเลยว้อย',\n",
       " 'ฝ่าลมหนาวมากินแมค',\n",
       " 'เออแต่ก็จริง แสงโสมเหมือนแดกกาว']"
      ]
     },
     "execution_count": 5,
     "metadata": {},
     "output_type": "execute_result"
    }
   ],
   "source": [
    "data_neg[:10]"
   ]
  },
  {
   "cell_type": "code",
   "execution_count": 6,
   "metadata": {},
   "outputs": [
    {
     "data": {
      "text/plain": [
       "['รังแกคนจน คนข้าขาย โคโลราโด้ เอชอาร์วี เทรลเบลเซอร์ ผมคนรวย พนักงานออฟฟิศ นิสสัน ซันนี่',\n",
       " 'อัลเมร่า ดาว 99 ส่งเดือนเท่าไหร่ ขอรายละเอียดค่ะ',\n",
       " 'บุรีรัมย์ฮึดบุกแบ่งแต้มแชมป์ลีกมังกร! ประเดิมถ้วยเอเชีย บุรีรัมย์ ยูไนเต็ด ตัวแทนเพียงหนึ่งเดียวจากไทย ประเดิมการแข่งขันเอเอฟซี แชมเปียนส์ ลีก ด้วยการบุกไปแบ่งแต้มจากกว่างโจว เอเวอร์แกรนด์ มาได้อย่างสุดมัน โดยรูปเกมในครึ่งแรกเจ้าถิ่นทำได้ดีกว่า และได้ประตูออกนำไปก่อน ก่อนที่ครึ่งหลังปราสาทสายฟ้าจะแก้เกมมาสู้ได้อย่างสนุกก่อนจะมาได้ประตูตีเสมอ 1-1 จากศูนย์หน้าตัวใหม่ เอดการ์ ซิลวา ทำให้เกมที่เหลืออีกกว่าครึ่งชั่วโมง มังกรแดนใต้ เปิดหน้าหวังทวงประตูคืนแต่ก็ไม่ผ่านแนวรับเซาะกราวที่วันนี้เก็บลูกอันตรายได้หมด นอกจากนั้นยังมีโอกาสลุ้นทำประตูแซง แต่ก็ไม่สามารถส่งบอลเข้าสู่ก้นตาข่ายได้ หมดเวลาบุรีรัมย์ ยูไนเต็ด คว้า 1 แต้มกลับบ้านสำเร็จ โปรแกรมนัดต่อไปจะพบกับเจจู ยูไนเต็ด จากเกาหลี ในวันที่ 21 กุมภาพันธ์ เป็นกำลังใจให้ตัวแทนหนึ่งเดียวจากไทยกันต่อไป #BuriramUnited #Chang #มากกว่ากีฬาคือน้ำใจนักกีฬา #ThaiBevThaiTalent',\n",
       " 'เบียร์ช้าง ขวดเดี่ยว ไม่ก็แพ็ค2ขวด',\n",
       " 'อยากได้นินเท็นโด้สวิตช์จากแสนสิริจริงๆ นะ ถ้าได้คือยอมซื้อเกมเลยนะ😭',\n",
       " 'ลั้นเซทอ่า เยนกินไม่ทันน',\n",
       " 'ต้องข้ามไปโลตัส',\n",
       " 'รอกันอีกนิดนะคะ ^^',\n",
       " 'ไม่ใช่ทุกเครื่องจะกรองได้❌ จะเลือกซื้อเครื่องกรองอากาศเราต้องดูสเป็ค!👀 👍Atmosphere SKY : 0.0024 ไมครอน (เล็กกว่าpm 2.5 ถึง1000เท่า!) 🚘 Atmosphere Drive : 0.015 ไมครอน ลองถามตัวเองว่า เราต้องการอากาศดีจริงๆ หรือ แค่มีไว้สบายใจ😷🤧 #atmosphere #ฝุ่นPM25 #PM25 #เครื่องกรองอากาศ',\n",
       " 'รุ่นอื่นคงไม่มี']"
      ]
     },
     "execution_count": 6,
     "metadata": {},
     "output_type": "execute_result"
    }
   ],
   "source": [
    "data_neu[:10]"
   ]
  },
  {
   "cell_type": "code",
   "execution_count": 7,
   "metadata": {},
   "outputs": [],
   "source": [
    "import re\n",
    "import string"
   ]
  },
  {
   "cell_type": "code",
   "execution_count": 8,
   "metadata": {},
   "outputs": [],
   "source": [
    "def clean_msg(msg):\n",
    "    \n",
    "    # ลบ text ที่อยู่ในวงเล็บ <> ทั้งหมด\n",
    "    msg = re.sub(r'<.*?>','', msg)\n",
    "    \n",
    "    # ลบ hashtag\n",
    "    msg = re.sub(r'#','',msg)\n",
    "    \n",
    "    # remove 1-2 character that don't have any meaning\n",
    "#     msg = re.sub('[A-Za-z0-9]','',msg)\n",
    "    msg = re.sub('[0-9][0-9]','',msg)\n",
    "    \n",
    "    # ลบ เครื่องหมายคำพูด (punctuation)\n",
    "    for c in string.punctuation:\n",
    "        msg = re.sub(r'\\{}'.format(c),'',msg)\n",
    "    \n",
    "    # ลบ separator เช่น \\n \\t\n",
    "    msg = ' '.join(msg.split())\n",
    "    \n",
    "    # remove emoji and symbols\n",
    "    emoji_pattern = re.compile(\"[\"\n",
    "        u\"\\U0001F600-\\U0001F64F\"  # emoticons\n",
    "        u\"\\U0001F300-\\U0001F5FF\"  # symbols & pictographs\n",
    "        u\"\\U0001F680-\\U0001F6FF\"  # transport & map symbols\n",
    "        u\"\\U0001F1E0-\\U0001F1FF\"  # flags (iOS)\n",
    "        u\"\\U00002702-\\U000027B0\"\n",
    "        u\"\\U000024C2-\\U0001F251\"\n",
    "        u\"\\U0001f926-\\U0001f937\"\n",
    "        u'\\U00010000-\\U0010ffff'\n",
    "        u\"\\u200d\"\n",
    "        u\"\\u2640-\\u2642\"\n",
    "        u\"\\u2600-\\u2B55\"\n",
    "        u\"\\u23cf\"\n",
    "        u\"\\u23e9\"\n",
    "        u\"\\u231a\"\n",
    "        u\"\\u3030\"\n",
    "        u\"\\ufe0f\"\n",
    "                           \"]+\", flags=re.UNICODE)\n",
    "    msg = re.sub(emoji_pattern ,'',msg)\n",
    "    \n",
    "    return msg"
   ]
  },
  {
   "cell_type": "code",
   "execution_count": 9,
   "metadata": {},
   "outputs": [],
   "source": [
    "clean_neg = [clean_msg(str(txt)) for txt in data_neg]\n",
    "clean_pos = [clean_msg(str(txt)) for txt in data_pos]\n",
    "clean_neu = [clean_msg(str(txt)) for txt in data_neu]"
   ]
  },
  {
   "cell_type": "code",
   "execution_count": 10,
   "metadata": {},
   "outputs": [
    {
     "data": {
      "text/plain": [
       "['เมนูที่ชอบสุดๆ คือ หมูคูโรบูตะแผ่นบางๆจิ้มกับน้ำจิ้มสูตรเด็ด ทานคู่กะกล่ำปีหั่นฝอย อร่อยสุด ฟินสุดทั้งครอบครัว หมูคูโรบูตะ คัดสรรคัดที่อะไร ตับไตไส้พุง คัดสรรหมู9 คัดสรรเนื้อ9',\n",
       " 'แท็กตั้ง9ครั้งเลขมงคลไปแดกกก',\n",
       " 'นี้ไงที่ตามหา',\n",
       " 'มีแอปเอมเคยัง']"
      ]
     },
     "execution_count": 10,
     "metadata": {},
     "output_type": "execute_result"
    }
   ],
   "source": [
    "clean_pos[-5:-1]"
   ]
  },
  {
   "cell_type": "code",
   "execution_count": 11,
   "metadata": {},
   "outputs": [
    {
     "data": {
      "text/plain": [
       "['รอไป เหมือน MAYBELLINE รุ่นนั้น ที่เฉดแบบนี้ เมิงลืมแน่ๆ เด๋วส่งให้ดู',\n",
       " 'ต้องลองๆ',\n",
       " 'เรานี่กินจนติดไม่รู้ตัว เบียร์ก็กินสิงห์ น้ำก็กินสิงห์ ตอนนี้อยากกินพรีเซนเตอร์อะ อิอิ',\n",
       " 'ทำไงดี ไดอารี่ สีชมพู ซื้อไม่เป็น',\n",
       " 'ลดน้ำหนักอยู่',\n",
       " 'ตอนเย็นก้อได้',\n",
       " 'ติดใจพี่ช้างมากกว่า ไม่เคยทำให้ผิดหวัง กินทีไรเมาทุกทีรสชาติดีต่อใจ',\n",
       " 'ขอบคุณพี่ ๆ ทุกท่าน ที่ช่วยเป็นกระบอกเสียงแทนพวกเรา ผู้ใช้บุหรี่ไฟฟ้าทุกคนครับ',\n",
       " 'ใครว่า ขายฝัน อนาคตใหม่ ของ บัตรทอง ต้องใช้เงินเท่าไหร่ แล้วเอา เงินจากไหน มาฟังกันชัดๆ จากปาก ธนาธร แห่ง พรรคอนาคตใหม่7 แจงละเอียดยิบ ใครยังสงสัย ส่งให้ฟังกันไปเลย ',\n",
       " 'ว่างมั้ย ไปกินบาบีก้อนกัน',\n",
       " 'นังมิ้น',\n",
       " 'เค้าอยากกิน ',\n",
       " 'พนักงานจะด่าไหม',\n",
       " 'น่ากินนน',\n",
       " 'สลายต้นตอสิวอุดตัน ด้วยประสิทธิภาพของสารสกัดธรรมชาติ Mangosteen Extract ลดเลือนริ้วรอย รอยดำ รอยแดง จากสิว ด้วยสารสกัดธรรมชาติ Centella Asiatica Extract คุณสมบัติที่ดีต่อผิวอ่อนโยน ปลอดภัยกับทุกสภาพผิว ปราศจากสารที่ทำให้เกิดการระคายเคือง และเช็ดสิ่งสกปรกที่เจอระหว่างวันได้สะอาดหมดจด น้ำมัน แอลกอฮอล์ SLS สารกันเสียชนิด parabenและphenoxyethanol ผ่านการทดสอบทางการแพทย์ สมูทอีคลีนซิ่งวอเตอร์',\n",
       " 'วันที่ได้เจอครั้งแรกแล้วก็ได้รับปิ้วๆจากคุณเค้าเลย5 สุขสันต์วันวาเลนไทน์ รักนะคะ  รับไปเลยหัวใจดวงน้อยๆจากพวกเราทุกคนปิ้วๆ KaewBNK',\n",
       " 'เครถ้าไม่กล้บบ้านน๋า',\n",
       " 'ไปมั้ยพรุ่งนี้',\n",
       " 'บุฟเฟต์หม่าล่า Mala Yuanyang Hotpot ชอบสุดตรงไอศครีม HäagenDazs กินไม่อั้นนี่แหล่ะ เครื่องดื่มเยอะ มีชานมมุก เบียร์ กดกินเต็มที่ ของหวาน ผลไม้ เต็มตู้ หัวละ 8 NT อยู่ Ximending รีวิวไต้หวัน อร่อยบอกต่อ',\n",
       " 'วันที่เมิงว่าง ไม่มีธุระ ปีหน้าดีมะ']"
      ]
     },
     "execution_count": 11,
     "metadata": {},
     "output_type": "execute_result"
    }
   ],
   "source": [
    "clean_pos[:20]"
   ]
  },
  {
   "cell_type": "code",
   "execution_count": 12,
   "metadata": {},
   "outputs": [],
   "source": [
    "def remove_emptyword_from_list(the_list, val, label):\n",
    "    return [(word, label) for word in the_list if word != val]\n",
    "\n",
    "final_pos = remove_emptyword_from_list(clean_pos,'','pos')\n",
    "final_neg = remove_emptyword_from_list(clean_neg,'','neg')\n",
    "final_neu = remove_emptyword_from_list(clean_neu,'','neu')"
   ]
  },
  {
   "cell_type": "code",
   "execution_count": 13,
   "metadata": {},
   "outputs": [
    {
     "data": {
      "text/plain": [
       "[('รอไป เหมือน MAYBELLINE รุ่นนั้น ที่เฉดแบบนี้ เมิงลืมแน่ๆ เด๋วส่งให้ดู',\n",
       "  'pos'),\n",
       " ('ต้องลองๆ', 'pos'),\n",
       " ('เรานี่กินจนติดไม่รู้ตัว เบียร์ก็กินสิงห์ น้ำก็กินสิงห์ ตอนนี้อยากกินพรีเซนเตอร์อะ อิอิ',\n",
       "  'pos'),\n",
       " ('ทำไงดี ไดอารี่ สีชมพู ซื้อไม่เป็น', 'pos'),\n",
       " ('ลดน้ำหนักอยู่', 'pos'),\n",
       " ('ตอนเย็นก้อได้', 'pos'),\n",
       " ('ติดใจพี่ช้างมากกว่า ไม่เคยทำให้ผิดหวัง กินทีไรเมาทุกทีรสชาติดีต่อใจ',\n",
       "  'pos'),\n",
       " ('ขอบคุณพี่ ๆ ทุกท่าน ที่ช่วยเป็นกระบอกเสียงแทนพวกเรา ผู้ใช้บุหรี่ไฟฟ้าทุกคนครับ',\n",
       "  'pos'),\n",
       " ('ใครว่า ขายฝัน อนาคตใหม่ ของ บัตรทอง ต้องใช้เงินเท่าไหร่ แล้วเอา เงินจากไหน มาฟังกันชัดๆ จากปาก ธนาธร แห่ง พรรคอนาคตใหม่7 แจงละเอียดยิบ ใครยังสงสัย ส่งให้ฟังกันไปเลย ',\n",
       "  'pos'),\n",
       " ('ว่างมั้ย ไปกินบาบีก้อนกัน', 'pos')]"
      ]
     },
     "execution_count": 13,
     "metadata": {},
     "output_type": "execute_result"
    }
   ],
   "source": [
    "final_pos[:10]"
   ]
  },
  {
   "cell_type": "code",
   "execution_count": 14,
   "metadata": {},
   "outputs": [
    {
     "data": {
      "text/plain": [
       "[('โคตรบิดเบือนเลย ห่าลาก', 'neg'),\n",
       " ('B1 ไม่ชอบกินไอติมอะ B2', 'neg'),\n",
       " ('ม่ายไหวๆจิงๆ เอาแอคคอร์ดที่ยอดขายเน่าในเมกา มาจับทุบหน้าทุบตูด ทำไมฮอนด้าออกแบบล้าหลังไงไม่รุ้ ชอบฮอนด้ามาตลอดนะ แต่มันไม่สวยจิงๆอ่ะแล้วแต่คนชอบละกันคับ',\n",
       "  'neg'),\n",
       " ('คิดว่าแป้ง cute press marine magic สีเบจอ่อน เป็นการลงทุนที่คุ้มค่ากว่า skinfood peach cotton powder ค่ะ แป้งละ…',\n",
       "  'neg'),\n",
       " ('รถสตาร์ทไม่ติดซะแล้ว แง้ อะไหล่มาสด้าก็แพงด้วย ขอให้เป็นที่แบต เพราะถ้าเป็นที่อย่างอื่นก็ขอลาตรงนี้',\n",
       "  'neg'),\n",
       " ('กาวเหนียวกางเกงในไม่ขาดหรอกค่ะแต่ผ้าอนามัยจะขาดติดกางเกงใน แต่ใช้แบบเต็มที่มันไม่ติดหรอก',\n",
       "  'neg'),\n",
       " ('เทอลดหุ่นอยู่นะ', 'neg'),\n",
       " ('ชาชีสเอ็มเคไม่อร่อยเลยว้อย', 'neg'),\n",
       " ('ฝ่าลมหนาวมากินแมค', 'neg'),\n",
       " ('เออแต่ก็จริง แสงโสมเหมือนแดกกาว', 'neg')]"
      ]
     },
     "execution_count": 14,
     "metadata": {},
     "output_type": "execute_result"
    }
   ],
   "source": [
    "final_neg[:10]"
   ]
  },
  {
   "cell_type": "code",
   "execution_count": 15,
   "metadata": {},
   "outputs": [
    {
     "data": {
      "text/plain": [
       "[('รังแกคนจน คนข้าขาย โคโลราโด้ เอชอาร์วี เทรลเบลเซอร์ ผมคนรวย พนักงานออฟฟิศ นิสสัน ซันนี่',\n",
       "  'neu'),\n",
       " ('อัลเมร่า ดาว ส่งเดือนเท่าไหร่ ขอรายละเอียดค่ะ', 'neu'),\n",
       " ('บุรีรัมย์ฮึดบุกแบ่งแต้มแชมป์ลีกมังกร ประเดิมถ้วยเอเชีย บุรีรัมย์ ยูไนเต็ด ตัวแทนเพียงหนึ่งเดียวจากไทย ประเดิมการแข่งขันเอเอฟซี แชมเปียนส์ ลีก ด้วยการบุกไปแบ่งแต้มจากกว่างโจว เอเวอร์แกรนด์ มาได้อย่างสุดมัน โดยรูปเกมในครึ่งแรกเจ้าถิ่นทำได้ดีกว่า และได้ประตูออกนำไปก่อน ก่อนที่ครึ่งหลังปราสาทสายฟ้าจะแก้เกมมาสู้ได้อย่างสนุกก่อนจะมาได้ประตูตีเสมอ 11 จากศูนย์หน้าตัวใหม่ เอดการ์ ซิลวา ทำให้เกมที่เหลืออีกกว่าครึ่งชั่วโมง มังกรแดนใต้ เปิดหน้าหวังทวงประตูคืนแต่ก็ไม่ผ่านแนวรับเซาะกราวที่วันนี้เก็บลูกอันตรายได้หมด นอกจากนั้นยังมีโอกาสลุ้นทำประตูแซง แต่ก็ไม่สามารถส่งบอลเข้าสู่ก้นตาข่ายได้ หมดเวลาบุรีรัมย์ ยูไนเต็ด คว้า 1 แต้มกลับบ้านสำเร็จ โปรแกรมนัดต่อไปจะพบกับเจจู ยูไนเต็ด จากเกาหลี ในวันที่ กุมภาพันธ์ เป็นกำลังใจให้ตัวแทนหนึ่งเดียวจากไทยกันต่อไป BuriramUnited Chang มากกว่ากีฬาคือน้ำใจนักกีฬา ThaiBevThaiTalent',\n",
       "  'neu'),\n",
       " ('เบียร์ช้าง ขวดเดี่ยว ไม่ก็แพ็ค2ขวด', 'neu'),\n",
       " ('อยากได้นินเท็นโด้สวิตช์จากแสนสิริจริงๆ นะ ถ้าได้คือยอมซื้อเกมเลยนะ', 'neu'),\n",
       " ('ลั้นเซทอ่า เยนกินไม่ทันน', 'neu'),\n",
       " ('ต้องข้ามไปโลตัส', 'neu'),\n",
       " ('รอกันอีกนิดนะคะ', 'neu'),\n",
       " ('ไม่ใช่ทุกเครื่องจะกรองได้ จะเลือกซื้อเครื่องกรองอากาศเราต้องดูสเป็ค Atmosphere SKY 0 ไมครอน เล็กกว่าpm 25 ถึงเท่า  Atmosphere Drive 05 ไมครอน ลองถามตัวเองว่า เราต้องการอากาศดีจริงๆ หรือ แค่มีไว้สบายใจ atmosphere ฝุ่นPM PM เครื่องกรองอากาศ',\n",
       "  'neu'),\n",
       " ('รุ่นอื่นคงไม่มี', 'neu')]"
      ]
     },
     "execution_count": 15,
     "metadata": {},
     "output_type": "execute_result"
    }
   ],
   "source": [
    "final_neu[:10]"
   ]
  },
  {
   "cell_type": "code",
   "execution_count": 16,
   "metadata": {},
   "outputs": [],
   "source": [
    "text = final_pos+final_neg+final_neu"
   ]
  },
  {
   "cell_type": "code",
   "execution_count": 18,
   "metadata": {},
   "outputs": [
    {
     "data": {
      "text/plain": [
       "27264"
      ]
     },
     "execution_count": 18,
     "metadata": {},
     "output_type": "execute_result"
    }
   ],
   "source": [
    "len(text)"
   ]
  },
  {
   "cell_type": "code",
   "execution_count": 17,
   "metadata": {},
   "outputs": [],
   "source": [
    "train, test = train_test_split(text,test_size=0.15)"
   ]
  },
  {
   "cell_type": "code",
   "execution_count": 54,
   "metadata": {},
   "outputs": [
    {
     "data": {
      "text/plain": [
       "23174"
      ]
     },
     "execution_count": 54,
     "metadata": {},
     "output_type": "execute_result"
    }
   ],
   "source": [
    "len(train)"
   ]
  },
  {
   "cell_type": "code",
   "execution_count": 16,
   "metadata": {},
   "outputs": [],
   "source": [
    "pos_train ,pos_test = train_test_split(final_pos,test_size=0.15)\n",
    "neg_train ,neg_test = train_test_split(final_neg,test_size=0.15)\n",
    "neu_train ,neu_test = train_test_split(final_neu,test_size=0.15)"
   ]
  },
  {
   "cell_type": "code",
   "execution_count": 17,
   "metadata": {},
   "outputs": [
    {
     "data": {
      "text/plain": [
       "4096"
      ]
     },
     "execution_count": 17,
     "metadata": {},
     "output_type": "execute_result"
    }
   ],
   "source": [
    "len(pos_train)"
   ]
  },
  {
   "cell_type": "code",
   "execution_count": 18,
   "metadata": {},
   "outputs": [
    {
     "data": {
      "text/plain": [
       "723"
      ]
     },
     "execution_count": 18,
     "metadata": {},
     "output_type": "execute_result"
    }
   ],
   "source": [
    "len(pos_test)"
   ]
  },
  {
   "cell_type": "code",
   "execution_count": 19,
   "metadata": {},
   "outputs": [
    {
     "data": {
      "text/plain": [
       "4819"
      ]
     },
     "execution_count": 19,
     "metadata": {},
     "output_type": "execute_result"
    }
   ],
   "source": [
    "len(final_pos)"
   ]
  },
  {
   "cell_type": "code",
   "execution_count": 20,
   "metadata": {},
   "outputs": [
    {
     "data": {
      "text/plain": [
       "5638"
      ]
     },
     "execution_count": 20,
     "metadata": {},
     "output_type": "execute_result"
    }
   ],
   "source": [
    "len(neg_train)"
   ]
  },
  {
   "cell_type": "code",
   "execution_count": 21,
   "metadata": {},
   "outputs": [
    {
     "data": {
      "text/plain": [
       "995"
      ]
     },
     "execution_count": 21,
     "metadata": {},
     "output_type": "execute_result"
    }
   ],
   "source": [
    "len(neg_test)"
   ]
  },
  {
   "cell_type": "code",
   "execution_count": 23,
   "metadata": {},
   "outputs": [
    {
     "data": {
      "text/plain": [
       "6633"
      ]
     },
     "execution_count": 23,
     "metadata": {},
     "output_type": "execute_result"
    }
   ],
   "source": [
    "len(final_neg)"
   ]
  },
  {
   "cell_type": "code",
   "execution_count": 18,
   "metadata": {},
   "outputs": [],
   "source": [
    "def split_words (sentence):\n",
    "    return deepcut.tokenize(''.join(sentence.lower().split()))\n",
    "# sentences = [(split_words(sentence), sentiment) for (sentence, sentiment) in pos_train + neg_train + neu_train]"
   ]
  },
  {
   "cell_type": "code",
   "execution_count": 24,
   "metadata": {},
   "outputs": [],
   "source": [
    "def get_words_in_sentences(sentences):\n",
    "    all_words = []\n",
    "    for (words, sentiment) in sentences:\n",
    "        all_words.extend(words)\n",
    "    return all_words"
   ]
  },
  {
   "cell_type": "code",
   "execution_count": 25,
   "metadata": {},
   "outputs": [],
   "source": [
    "def get_word_features(list_of_words):\n",
    "    list_of_words = nltk.FreqDist(list_of_words)\n",
    "    word_features = list_of_words.keys()\n",
    "    return word_features"
   ]
  },
  {
   "cell_type": "code",
   "execution_count": 26,
   "metadata": {},
   "outputs": [],
   "source": [
    "def extract_features(document):\n",
    "    document_words = set(document)\n",
    "    features = {}\n",
    "    for word in word_features:\n",
    "        features['contains(%s)' % word] = (word in document_words)\n",
    "    return features"
   ]
  },
  {
   "cell_type": "code",
   "execution_count": null,
   "metadata": {},
   "outputs": [],
   "source": [
    "# all_reviews = []\n",
    "# for (review, sentiment) in pos_reviews + neg_reviews:\n",
    "#     reviews_filtered = [w.lower() for w in word_tokenize(review)]\n",
    "#     all_reviews.append((reviews_filtered, sentiment))\n",
    "# global features\n",
    "# features = get_word_features(get_words_in_reviews(all_reviews))\n",
    "# training_set = nltk.classify.apply_features(extract_features, all_reviews)\n",
    "# classifier = nltk.NaiveBayesClassifier.train(training_set) # ทำการ train\n"
   ]
  },
  {
   "cell_type": "code",
   "execution_count": 19,
   "metadata": {},
   "outputs": [],
   "source": [
    "train_text = [(split_words(sentence), sentiment) for (sentence, sentiment) in train]"
   ]
  },
  {
   "cell_type": "code",
   "execution_count": 28,
   "metadata": {},
   "outputs": [
    {
     "data": {
      "text/plain": [
       "23174"
      ]
     },
     "execution_count": 28,
     "metadata": {},
     "output_type": "execute_result"
    }
   ],
   "source": [
    "len(sentences)"
   ]
  },
  {
   "cell_type": "code",
   "execution_count": 29,
   "metadata": {},
   "outputs": [],
   "source": [
    "import pandas\n",
    "# create three rows of [0, 1, 2]\n",
    "df = pandas.DataFrame(train_text)\n",
    "my_columns = [\"text\", \"label\"]\n",
    "df.columns = my_columns"
   ]
  },
  {
   "cell_type": "code",
   "execution_count": 30,
   "metadata": {},
   "outputs": [
    {
     "data": {
      "text/html": [
       "<div>\n",
       "<style scoped>\n",
       "    .dataframe tbody tr th:only-of-type {\n",
       "        vertical-align: middle;\n",
       "    }\n",
       "\n",
       "    .dataframe tbody tr th {\n",
       "        vertical-align: top;\n",
       "    }\n",
       "\n",
       "    .dataframe thead th {\n",
       "        text-align: right;\n",
       "    }\n",
       "</style>\n",
       "<table border=\"1\" class=\"dataframe\">\n",
       "  <thead>\n",
       "    <tr style=\"text-align: right;\">\n",
       "      <th></th>\n",
       "      <th>text</th>\n",
       "      <th>label</th>\n",
       "    </tr>\n",
       "  </thead>\n",
       "  <tbody>\n",
       "    <tr>\n",
       "      <th>0</th>\n",
       "      <td>[ผ้า, เปิด, พอ, ได้, เห็น, กระจัง, หน้า, นิด, ...</td>\n",
       "      <td>neu</td>\n",
       "    </tr>\n",
       "    <tr>\n",
       "      <th>1</th>\n",
       "      <td>[ยัง, ไง, ไทย, ก็, ได้, ใช้, และ, เป็น, ฐาน, ผ...</td>\n",
       "      <td>neu</td>\n",
       "    </tr>\n",
       "    <tr>\n",
       "      <th>2</th>\n",
       "      <td>[วัน, ที่, ว่าง, น๊าาา, มา, เลยย, ๆ, ๆ]</td>\n",
       "      <td>pos</td>\n",
       "    </tr>\n",
       "    <tr>\n",
       "      <th>3</th>\n",
       "      <td>[บาบีก้อน, กัน, งี้]</td>\n",
       "      <td>neu</td>\n",
       "    </tr>\n",
       "    <tr>\n",
       "      <th>4</th>\n",
       "      <td>[singhaisthebestbeer]</td>\n",
       "      <td>pos</td>\n",
       "    </tr>\n",
       "  </tbody>\n",
       "</table>\n",
       "</div>"
      ],
      "text/plain": [
       "                                                text label\n",
       "0  [ผ้า, เปิด, พอ, ได้, เห็น, กระจัง, หน้า, นิด, ...   neu\n",
       "1  [ยัง, ไง, ไทย, ก็, ได้, ใช้, และ, เป็น, ฐาน, ผ...   neu\n",
       "2            [วัน, ที่, ว่าง, น๊าาา, มา, เลยย, ๆ, ๆ]   pos\n",
       "3                               [บาบีก้อน, กัน, งี้]   neu\n",
       "4                              [singhaisthebestbeer]   pos"
      ]
     },
     "execution_count": 30,
     "metadata": {},
     "output_type": "execute_result"
    }
   ],
   "source": [
    "df.head(5)"
   ]
  },
  {
   "cell_type": "code",
   "execution_count": 31,
   "metadata": {},
   "outputs": [],
   "source": [
    "X = df.text\n",
    "y = df.label\n",
    "X_train, X_test, y_train, y_test = train_test_split(X, y, test_size=0.15, random_state = 42)"
   ]
  },
  {
   "cell_type": "code",
   "execution_count": 1,
   "metadata": {},
   "outputs": [
    {
     "ename": "NameError",
     "evalue": "name 'np' is not defined",
     "output_type": "error",
     "traceback": [
      "\u001b[1;31m---------------------------------------------------------------------------\u001b[0m",
      "\u001b[1;31mNameError\u001b[0m                                 Traceback (most recent call last)",
      "\u001b[1;32m<ipython-input-1-f8c1e294aff9>\u001b[0m in \u001b[0;36m<module>\u001b[1;34m\u001b[0m\n\u001b[1;32m----> 1\u001b[1;33m \u001b[0mfeatures_data\u001b[0m \u001b[1;33m=\u001b[0m \u001b[0mnp\u001b[0m\u001b[1;33m.\u001b[0m\u001b[0marray\u001b[0m\u001b[1;33m(\u001b[0m\u001b[0mtrain_text\u001b[0m\u001b[1;33m[\u001b[0m\u001b[1;33m:\u001b[0m\u001b[1;36m5000\u001b[0m\u001b[1;33m]\u001b[0m\u001b[1;33m)\u001b[0m\u001b[1;33m\u001b[0m\u001b[1;33m\u001b[0m\u001b[0m\n\u001b[0m",
      "\u001b[1;31mNameError\u001b[0m: name 'np' is not defined"
     ]
    }
   ],
   "source": [
    "features_data = np.array(train_text[:5000])"
   ]
  },
  {
   "cell_type": "code",
   "execution_count": 34,
   "metadata": {},
   "outputs": [
    {
     "data": {
      "text/plain": [
       "4059     [เบียร์, ใน, คอนไฮนเนเก้น, แก้ว, ละ, 0, บาท, แ...\n",
       "18921                                    [ไป, ยัง, จ๊ะแพร]\n",
       "16304    [มี, อะไร, ใ้ห้เรา, กู้, ภัย, ไหม, คะ, waterzo...\n",
       "16559      [ป่วน, ไป, ทั่ว, เลย, นะ, ตัว, แสบ, ของ, วงการ]\n",
       "12635                             [โฆษณา, drjill, อีก, ละ]\n",
       "Name: text, dtype: object"
      ]
     },
     "execution_count": 34,
     "metadata": {},
     "output_type": "execute_result"
    }
   ],
   "source": [
    "X_train.head(5)"
   ]
  },
  {
   "cell_type": "code",
   "execution_count": 47,
   "metadata": {},
   "outputs": [
    {
     "data": {
      "text/plain": [
       "0    [ผ้า, เปิด, พอ, ได้, เห็น, กระจัง, หน้า, นิด, ...\n",
       "1    [ยัง, ไง, ไทย, ก็, ได้, ใช้, และ, เป็น, ฐาน, ผ...\n",
       "2              [วัน, ที่, ว่าง, น๊าาา, มา, เลยย, ๆ, ๆ]\n",
       "3                                 [บาบีก้อน, กัน, งี้]\n",
       "4                                [singhaisthebestbeer]\n",
       "5                     [จศแถม, ถึง, ไม่, ทัน, มะว้าาาา]\n",
       "6                                      [มื้อ, ใด, ล่ะ]\n",
       "7    [ไป, สาด, น้ำ, กับข้า, เถิด, หนา, ออ, เจ้าข้า,...\n",
       "8                                            [พระราม9]\n",
       "9    [มิตซู, ผม, รับ, ประกัน, ห้า, ปี, ฟรี, ค่า, แร...\n",
       "Name: text, dtype: object"
      ]
     },
     "execution_count": 47,
     "metadata": {},
     "output_type": "execute_result"
    }
   ],
   "source": [
    "X.head(10)"
   ]
  },
  {
   "cell_type": "code",
   "execution_count": 53,
   "metadata": {},
   "outputs": [
    {
     "name": "stdout",
     "output_type": "stream",
     "text": [
      "Classifier accuracy percent: 65.4\n",
      "===============================================\n",
      "\n",
      "Classifier accuracy percent: 68.4\n",
      "===============================================\n",
      "\n",
      "Classifier accuracy percent: 68.2\n",
      "===============================================\n",
      "\n",
      "Classifier accuracy percent: 67.9\n",
      "===============================================\n",
      "\n",
      "Classifier accuracy percent: 70.1\n",
      "===============================================\n",
      "\n"
     ]
    },
    {
     "ename": "MemoryError",
     "evalue": "",
     "output_type": "error",
     "traceback": [
      "\u001b[1;31m---------------------------------------------------------------------------\u001b[0m",
      "\u001b[1;31mMemoryError\u001b[0m                               Traceback (most recent call last)",
      "\u001b[1;32m<ipython-input-53-5b268f32f528>\u001b[0m in \u001b[0;36m<module>\u001b[1;34m\u001b[0m\n\u001b[0;32m     10\u001b[0m     \u001b[0mrefsets\u001b[0m \u001b[1;33m=\u001b[0m \u001b[0mcollections\u001b[0m\u001b[1;33m.\u001b[0m\u001b[0mdefaultdict\u001b[0m\u001b[1;33m(\u001b[0m\u001b[0mset\u001b[0m\u001b[1;33m)\u001b[0m\u001b[1;33m\u001b[0m\u001b[1;33m\u001b[0m\u001b[0m\n\u001b[0;32m     11\u001b[0m     \u001b[0mtestsets\u001b[0m \u001b[1;33m=\u001b[0m \u001b[0mcollections\u001b[0m\u001b[1;33m.\u001b[0m\u001b[0mdefaultdict\u001b[0m\u001b[1;33m(\u001b[0m\u001b[0mset\u001b[0m\u001b[1;33m)\u001b[0m\u001b[1;33m\u001b[0m\u001b[1;33m\u001b[0m\u001b[0m\n\u001b[1;32m---> 12\u001b[1;33m     \u001b[0mprint\u001b[0m\u001b[1;33m(\u001b[0m\u001b[1;34m\"Classifier accuracy percent:\"\u001b[0m\u001b[1;33m,\u001b[0m\u001b[1;33m(\u001b[0m\u001b[0mnltk\u001b[0m\u001b[1;33m.\u001b[0m\u001b[0mclassify\u001b[0m\u001b[1;33m.\u001b[0m\u001b[0maccuracy\u001b[0m\u001b[1;33m(\u001b[0m\u001b[0mclassifier\u001b[0m\u001b[1;33m,\u001b[0m \u001b[0mtest_features\u001b[0m\u001b[1;33m)\u001b[0m\u001b[1;33m)\u001b[0m\u001b[1;33m*\u001b[0m\u001b[1;36m100\u001b[0m\u001b[1;33m)\u001b[0m\u001b[1;33m\u001b[0m\u001b[1;33m\u001b[0m\u001b[0m\n\u001b[0m\u001b[0;32m     13\u001b[0m \u001b[1;31m#     for i, (feats, label) in enumerate(test_features):\u001b[0m\u001b[1;33m\u001b[0m\u001b[1;33m\u001b[0m\u001b[1;33m\u001b[0m\u001b[0m\n\u001b[0;32m     14\u001b[0m \u001b[1;31m#         refsets[label].add(i)\u001b[0m\u001b[1;33m\u001b[0m\u001b[1;33m\u001b[0m\u001b[1;33m\u001b[0m\u001b[0m\n",
      "\u001b[1;32m~\\Anaconda3\\envs\\tf-gpu\\lib\\site-packages\\nltk\\classify\\util.py\u001b[0m in \u001b[0;36maccuracy\u001b[1;34m(classifier, gold)\u001b[0m\n\u001b[0;32m     90\u001b[0m \u001b[1;33m\u001b[0m\u001b[0m\n\u001b[0;32m     91\u001b[0m \u001b[1;32mdef\u001b[0m \u001b[0maccuracy\u001b[0m\u001b[1;33m(\u001b[0m\u001b[0mclassifier\u001b[0m\u001b[1;33m,\u001b[0m \u001b[0mgold\u001b[0m\u001b[1;33m)\u001b[0m\u001b[1;33m:\u001b[0m\u001b[1;33m\u001b[0m\u001b[1;33m\u001b[0m\u001b[0m\n\u001b[1;32m---> 92\u001b[1;33m     \u001b[0mresults\u001b[0m \u001b[1;33m=\u001b[0m \u001b[0mclassifier\u001b[0m\u001b[1;33m.\u001b[0m\u001b[0mclassify_many\u001b[0m\u001b[1;33m(\u001b[0m\u001b[1;33m[\u001b[0m\u001b[0mfs\u001b[0m \u001b[1;32mfor\u001b[0m \u001b[1;33m(\u001b[0m\u001b[0mfs\u001b[0m\u001b[1;33m,\u001b[0m \u001b[0ml\u001b[0m\u001b[1;33m)\u001b[0m \u001b[1;32min\u001b[0m \u001b[0mgold\u001b[0m\u001b[1;33m]\u001b[0m\u001b[1;33m)\u001b[0m\u001b[1;33m\u001b[0m\u001b[1;33m\u001b[0m\u001b[0m\n\u001b[0m\u001b[0;32m     93\u001b[0m     \u001b[0mcorrect\u001b[0m \u001b[1;33m=\u001b[0m \u001b[1;33m[\u001b[0m\u001b[0ml\u001b[0m \u001b[1;33m==\u001b[0m \u001b[0mr\u001b[0m \u001b[1;32mfor\u001b[0m \u001b[1;33m(\u001b[0m\u001b[1;33m(\u001b[0m\u001b[0mfs\u001b[0m\u001b[1;33m,\u001b[0m \u001b[0ml\u001b[0m\u001b[1;33m)\u001b[0m\u001b[1;33m,\u001b[0m \u001b[0mr\u001b[0m\u001b[1;33m)\u001b[0m \u001b[1;32min\u001b[0m \u001b[0mzip\u001b[0m\u001b[1;33m(\u001b[0m\u001b[0mgold\u001b[0m\u001b[1;33m,\u001b[0m \u001b[0mresults\u001b[0m\u001b[1;33m)\u001b[0m\u001b[1;33m]\u001b[0m\u001b[1;33m\u001b[0m\u001b[1;33m\u001b[0m\u001b[0m\n\u001b[0;32m     94\u001b[0m     \u001b[1;32mif\u001b[0m \u001b[0mcorrect\u001b[0m\u001b[1;33m:\u001b[0m\u001b[1;33m\u001b[0m\u001b[1;33m\u001b[0m\u001b[0m\n",
      "\u001b[1;32m~\\Anaconda3\\envs\\tf-gpu\\lib\\site-packages\\nltk\\classify\\util.py\u001b[0m in \u001b[0;36m<listcomp>\u001b[1;34m(.0)\u001b[0m\n\u001b[0;32m     90\u001b[0m \u001b[1;33m\u001b[0m\u001b[0m\n\u001b[0;32m     91\u001b[0m \u001b[1;32mdef\u001b[0m \u001b[0maccuracy\u001b[0m\u001b[1;33m(\u001b[0m\u001b[0mclassifier\u001b[0m\u001b[1;33m,\u001b[0m \u001b[0mgold\u001b[0m\u001b[1;33m)\u001b[0m\u001b[1;33m:\u001b[0m\u001b[1;33m\u001b[0m\u001b[1;33m\u001b[0m\u001b[0m\n\u001b[1;32m---> 92\u001b[1;33m     \u001b[0mresults\u001b[0m \u001b[1;33m=\u001b[0m \u001b[0mclassifier\u001b[0m\u001b[1;33m.\u001b[0m\u001b[0mclassify_many\u001b[0m\u001b[1;33m(\u001b[0m\u001b[1;33m[\u001b[0m\u001b[0mfs\u001b[0m \u001b[1;32mfor\u001b[0m \u001b[1;33m(\u001b[0m\u001b[0mfs\u001b[0m\u001b[1;33m,\u001b[0m \u001b[0ml\u001b[0m\u001b[1;33m)\u001b[0m \u001b[1;32min\u001b[0m \u001b[0mgold\u001b[0m\u001b[1;33m]\u001b[0m\u001b[1;33m)\u001b[0m\u001b[1;33m\u001b[0m\u001b[1;33m\u001b[0m\u001b[0m\n\u001b[0m\u001b[0;32m     93\u001b[0m     \u001b[0mcorrect\u001b[0m \u001b[1;33m=\u001b[0m \u001b[1;33m[\u001b[0m\u001b[0ml\u001b[0m \u001b[1;33m==\u001b[0m \u001b[0mr\u001b[0m \u001b[1;32mfor\u001b[0m \u001b[1;33m(\u001b[0m\u001b[1;33m(\u001b[0m\u001b[0mfs\u001b[0m\u001b[1;33m,\u001b[0m \u001b[0ml\u001b[0m\u001b[1;33m)\u001b[0m\u001b[1;33m,\u001b[0m \u001b[0mr\u001b[0m\u001b[1;33m)\u001b[0m \u001b[1;32min\u001b[0m \u001b[0mzip\u001b[0m\u001b[1;33m(\u001b[0m\u001b[0mgold\u001b[0m\u001b[1;33m,\u001b[0m \u001b[0mresults\u001b[0m\u001b[1;33m)\u001b[0m\u001b[1;33m]\u001b[0m\u001b[1;33m\u001b[0m\u001b[1;33m\u001b[0m\u001b[0m\n\u001b[0;32m     94\u001b[0m     \u001b[1;32mif\u001b[0m \u001b[0mcorrect\u001b[0m\u001b[1;33m:\u001b[0m\u001b[1;33m\u001b[0m\u001b[1;33m\u001b[0m\u001b[0m\n",
      "\u001b[1;32m~\\Anaconda3\\envs\\tf-gpu\\lib\\site-packages\\nltk\\collections.py\u001b[0m in \u001b[0;36miterate_from\u001b[1;34m(self, index)\u001b[0m\n\u001b[0;32m    416\u001b[0m             \u001b[1;32mwhile\u001b[0m \u001b[1;32mTrue\u001b[0m\u001b[1;33m:\u001b[0m\u001b[1;33m\u001b[0m\u001b[1;33m\u001b[0m\u001b[0m\n\u001b[0;32m    417\u001b[0m                 \u001b[1;32mtry\u001b[0m\u001b[1;33m:\u001b[0m\u001b[1;33m\u001b[0m\u001b[1;33m\u001b[0m\u001b[0m\n\u001b[1;32m--> 418\u001b[1;33m                     \u001b[1;32myield\u001b[0m \u001b[0mself\u001b[0m\u001b[1;33m.\u001b[0m\u001b[0m_func\u001b[0m\u001b[1;33m(\u001b[0m\u001b[0mself\u001b[0m\u001b[1;33m.\u001b[0m\u001b[0m_lists\u001b[0m\u001b[1;33m[\u001b[0m\u001b[1;36m0\u001b[0m\u001b[1;33m]\u001b[0m\u001b[1;33m[\u001b[0m\u001b[0mindex\u001b[0m\u001b[1;33m]\u001b[0m\u001b[1;33m)\u001b[0m\u001b[1;33m\u001b[0m\u001b[1;33m\u001b[0m\u001b[0m\n\u001b[0m\u001b[0;32m    419\u001b[0m                 \u001b[1;32mexcept\u001b[0m \u001b[0mIndexError\u001b[0m\u001b[1;33m:\u001b[0m\u001b[1;33m\u001b[0m\u001b[1;33m\u001b[0m\u001b[0m\n\u001b[0;32m    420\u001b[0m                     \u001b[1;32mreturn\u001b[0m\u001b[1;33m\u001b[0m\u001b[1;33m\u001b[0m\u001b[0m\n",
      "\u001b[1;32m~\\Anaconda3\\envs\\tf-gpu\\lib\\site-packages\\nltk\\classify\\util.py\u001b[0m in \u001b[0;36mlazy_func\u001b[1;34m(labeled_token)\u001b[0m\n\u001b[0;32m     64\u001b[0m \u001b[1;33m\u001b[0m\u001b[0m\n\u001b[0;32m     65\u001b[0m         \u001b[1;32mdef\u001b[0m \u001b[0mlazy_func\u001b[0m\u001b[1;33m(\u001b[0m\u001b[0mlabeled_token\u001b[0m\u001b[1;33m)\u001b[0m\u001b[1;33m:\u001b[0m\u001b[1;33m\u001b[0m\u001b[1;33m\u001b[0m\u001b[0m\n\u001b[1;32m---> 66\u001b[1;33m             \u001b[1;32mreturn\u001b[0m \u001b[1;33m(\u001b[0m\u001b[0mfeature_func\u001b[0m\u001b[1;33m(\u001b[0m\u001b[0mlabeled_token\u001b[0m\u001b[1;33m[\u001b[0m\u001b[1;36m0\u001b[0m\u001b[1;33m]\u001b[0m\u001b[1;33m)\u001b[0m\u001b[1;33m,\u001b[0m \u001b[0mlabeled_token\u001b[0m\u001b[1;33m[\u001b[0m\u001b[1;36m1\u001b[0m\u001b[1;33m]\u001b[0m\u001b[1;33m)\u001b[0m\u001b[1;33m\u001b[0m\u001b[1;33m\u001b[0m\u001b[0m\n\u001b[0m\u001b[0;32m     67\u001b[0m \u001b[1;33m\u001b[0m\u001b[0m\n\u001b[0;32m     68\u001b[0m         \u001b[1;32mreturn\u001b[0m \u001b[0mLazyMap\u001b[0m\u001b[1;33m(\u001b[0m\u001b[0mlazy_func\u001b[0m\u001b[1;33m,\u001b[0m \u001b[0mtoks\u001b[0m\u001b[1;33m)\u001b[0m\u001b[1;33m\u001b[0m\u001b[1;33m\u001b[0m\u001b[0m\n",
      "\u001b[1;32m<ipython-input-26-94383d9bb871>\u001b[0m in \u001b[0;36mextract_features\u001b[1;34m(document)\u001b[0m\n\u001b[0;32m      3\u001b[0m     \u001b[0mfeatures\u001b[0m \u001b[1;33m=\u001b[0m \u001b[1;33m{\u001b[0m\u001b[1;33m}\u001b[0m\u001b[1;33m\u001b[0m\u001b[1;33m\u001b[0m\u001b[0m\n\u001b[0;32m      4\u001b[0m     \u001b[1;32mfor\u001b[0m \u001b[0mword\u001b[0m \u001b[1;32min\u001b[0m \u001b[0mword_features\u001b[0m\u001b[1;33m:\u001b[0m\u001b[1;33m\u001b[0m\u001b[1;33m\u001b[0m\u001b[0m\n\u001b[1;32m----> 5\u001b[1;33m         \u001b[0mfeatures\u001b[0m\u001b[1;33m[\u001b[0m\u001b[1;34m'contains(%s)'\u001b[0m \u001b[1;33m%\u001b[0m \u001b[0mword\u001b[0m\u001b[1;33m]\u001b[0m \u001b[1;33m=\u001b[0m \u001b[1;33m(\u001b[0m\u001b[0mword\u001b[0m \u001b[1;32min\u001b[0m \u001b[0mdocument_words\u001b[0m\u001b[1;33m)\u001b[0m\u001b[1;33m\u001b[0m\u001b[1;33m\u001b[0m\u001b[0m\n\u001b[0m\u001b[0;32m      6\u001b[0m     \u001b[1;32mreturn\u001b[0m \u001b[0mfeatures\u001b[0m\u001b[1;33m\u001b[0m\u001b[1;33m\u001b[0m\u001b[0m\n",
      "\u001b[1;31mMemoryError\u001b[0m: "
     ]
    }
   ],
   "source": [
    "# แบ่งข้อมูลเป็น 10 ชุด โดยไม่เรียง\n",
    "k_fold = KFold(n_splits=10, random_state=456, shuffle=True)\n",
    "word_features = None\n",
    "accuracy_scores = []\n",
    "for train_set, test_set in k_fold.split(features_data):\n",
    "    word_features = get_word_features(get_words_in_sentences(features_data[train_set].tolist()))\n",
    "    train_features = apply_features(extract_features, features_data[train_set].tolist())\n",
    "    test_features = apply_features(extract_features, features_data[test_set].tolist())\n",
    "    classifier = NaiveBayesClassifier.train(train_features)\n",
    "    refsets = collections.defaultdict(set)\n",
    "    testsets = collections.defaultdict(set)\n",
    "    print(\"Classifier accuracy percent:\",(nltk.classify.accuracy(classifier, test_features))*100)\n",
    "#     for i, (feats, label) in enumerate(test_features):\n",
    "#         refsets[label].add(i)\n",
    "#         observed = classifier.classify(feats)\n",
    "#         testsets[observed].add(i)\n",
    "#     accuracy_scores.append(util.accuracy(classifier, test_features))\n",
    "#     print('train: {} test: {}'.format(len(train_set), len(test_set)))\n",
    "#     print('=================== Results ===================')\n",
    "#     print('Accuracy {:f}'.format(accuracy_scores[-1]))\n",
    "#     print('            Positive     Negative')\n",
    "#     print('F1         [{:f}     {:f}]'.format(\n",
    "#         f_measure(refsets['pos'], testsets['pos']),\n",
    "#         f_measure(refsets['neg'], testsets['neg'])\n",
    "#     ))\n",
    "#     print('Precision  [{:f}     {:f}]'.format(\n",
    "#         precision(refsets['pos'], testsets['pos']),\n",
    "#         precision(refsets['neg'], testsets['neg'])\n",
    "#     ))\n",
    "#     print('Recall     [{:f}     {:f}]'.format(\n",
    "#         recall(refsets['pos'], testsets['pos']),\n",
    "#         recall(refsets['neg'], testsets['neg'])\n",
    "#     ))\n",
    "    print('===============================================\\n')"
   ]
  },
  {
   "cell_type": "code",
   "execution_count": null,
   "metadata": {},
   "outputs": [],
   "source": [
    "X_train"
   ]
  },
  {
   "cell_type": "code",
   "execution_count": 42,
   "metadata": {},
   "outputs": [
    {
     "ename": "ValueError",
     "evalue": "too many values to unpack (expected 2)",
     "output_type": "error",
     "traceback": [
      "\u001b[1;31m---------------------------------------------------------------------------\u001b[0m",
      "\u001b[1;31mValueError\u001b[0m                                Traceback (most recent call last)",
      "\u001b[1;32m<ipython-input-42-419c03681f1d>\u001b[0m in \u001b[0;36m<module>\u001b[1;34m\u001b[0m\n\u001b[1;32m----> 1\u001b[1;33m \u001b[0mclassifier\u001b[0m \u001b[1;33m=\u001b[0m \u001b[0mnltk\u001b[0m\u001b[1;33m.\u001b[0m\u001b[0mNaiveBayesClassifier\u001b[0m\u001b[1;33m.\u001b[0m\u001b[0mtrain\u001b[0m\u001b[1;33m(\u001b[0m\u001b[0mX\u001b[0m\u001b[1;33m)\u001b[0m\u001b[1;33m\u001b[0m\u001b[1;33m\u001b[0m\u001b[0m\n\u001b[0m\u001b[0;32m      2\u001b[0m \u001b[1;33m\u001b[0m\u001b[0m\n\u001b[0;32m      3\u001b[0m \u001b[0mprint\u001b[0m\u001b[1;33m(\u001b[0m\u001b[1;34m\"Classifier accuracy percent:\"\u001b[0m\u001b[1;33m,\u001b[0m\u001b[1;33m(\u001b[0m\u001b[0mnltk\u001b[0m\u001b[1;33m.\u001b[0m\u001b[0mclassify\u001b[0m\u001b[1;33m.\u001b[0m\u001b[0maccuracy\u001b[0m\u001b[1;33m(\u001b[0m\u001b[0mclassifier\u001b[0m\u001b[1;33m,\u001b[0m \u001b[0mX_test\u001b[0m\u001b[1;33m)\u001b[0m\u001b[1;33m)\u001b[0m\u001b[1;33m*\u001b[0m\u001b[1;36m100\u001b[0m\u001b[1;33m)\u001b[0m\u001b[1;33m\u001b[0m\u001b[1;33m\u001b[0m\u001b[0m\n\u001b[0;32m      4\u001b[0m \u001b[1;33m\u001b[0m\u001b[0m\n\u001b[0;32m      5\u001b[0m \u001b[0mclassifier\u001b[0m\u001b[1;33m.\u001b[0m\u001b[0mshow_most_informative_features\u001b[0m\u001b[1;33m(\u001b[0m\u001b[1;36m15\u001b[0m\u001b[1;33m)\u001b[0m\u001b[1;33m\u001b[0m\u001b[1;33m\u001b[0m\u001b[0m\n",
      "\u001b[1;32m~\\Anaconda3\\envs\\tf-gpu\\lib\\site-packages\\nltk\\classify\\naivebayes.py\u001b[0m in \u001b[0;36mtrain\u001b[1;34m(cls, labeled_featuresets, estimator)\u001b[0m\n\u001b[0;32m    204\u001b[0m         \u001b[1;31m# Count up how many times each feature value occurred, given\u001b[0m\u001b[1;33m\u001b[0m\u001b[1;33m\u001b[0m\u001b[1;33m\u001b[0m\u001b[0m\n\u001b[0;32m    205\u001b[0m         \u001b[1;31m# the label and featurename.\u001b[0m\u001b[1;33m\u001b[0m\u001b[1;33m\u001b[0m\u001b[1;33m\u001b[0m\u001b[0m\n\u001b[1;32m--> 206\u001b[1;33m         \u001b[1;32mfor\u001b[0m \u001b[0mfeatureset\u001b[0m\u001b[1;33m,\u001b[0m \u001b[0mlabel\u001b[0m \u001b[1;32min\u001b[0m \u001b[0mlabeled_featuresets\u001b[0m\u001b[1;33m:\u001b[0m\u001b[1;33m\u001b[0m\u001b[1;33m\u001b[0m\u001b[0m\n\u001b[0m\u001b[0;32m    207\u001b[0m             \u001b[0mlabel_freqdist\u001b[0m\u001b[1;33m[\u001b[0m\u001b[0mlabel\u001b[0m\u001b[1;33m]\u001b[0m \u001b[1;33m+=\u001b[0m \u001b[1;36m1\u001b[0m\u001b[1;33m\u001b[0m\u001b[1;33m\u001b[0m\u001b[0m\n\u001b[0;32m    208\u001b[0m             \u001b[1;32mfor\u001b[0m \u001b[0mfname\u001b[0m\u001b[1;33m,\u001b[0m \u001b[0mfval\u001b[0m \u001b[1;32min\u001b[0m \u001b[0mfeatureset\u001b[0m\u001b[1;33m.\u001b[0m\u001b[0mitems\u001b[0m\u001b[1;33m(\u001b[0m\u001b[1;33m)\u001b[0m\u001b[1;33m:\u001b[0m\u001b[1;33m\u001b[0m\u001b[1;33m\u001b[0m\u001b[0m\n",
      "\u001b[1;31mValueError\u001b[0m: too many values to unpack (expected 2)"
     ]
    }
   ],
   "source": [
    "classifier = nltk.NaiveBayesClassifier.train(X_train)\n",
    "\n",
    "print(\"Classifier accuracy percent:\",(nltk.classify.accuracy(classifier, X_test))*100)\n",
    "\n",
    "classifier.show_most_informative_features(15)"
   ]
  },
  {
   "cell_type": "code",
   "execution_count": 58,
   "metadata": {},
   "outputs": [],
   "source": [
    "from sklearn.model_selection import train_test_split\n",
    "from sklearn.feature_extraction.text import CountVectorizer, TfidfVectorizer\n",
    "from sklearn.metrics import accuracy_score, confusion_matrix\n",
    "import matplotlib.pyplot as plt"
   ]
  },
  {
   "cell_type": "code",
   "execution_count": 70,
   "metadata": {},
   "outputs": [
    {
     "ename": "ValueError",
     "evalue": "setting an array element with a sequence.",
     "output_type": "error",
     "traceback": [
      "\u001b[1;31m---------------------------------------------------------------------------\u001b[0m",
      "\u001b[1;31mValueError\u001b[0m                                Traceback (most recent call last)",
      "\u001b[1;32m<ipython-input-70-3db2224e4f4e>\u001b[0m in \u001b[0;36m<module>\u001b[1;34m\u001b[0m\n\u001b[0;32m      7\u001b[0m                \u001b[1;33m(\u001b[0m\u001b[1;34m'clf'\u001b[0m\u001b[1;33m,\u001b[0m \u001b[0mMultinomialNB\u001b[0m\u001b[1;33m(\u001b[0m\u001b[1;33m)\u001b[0m\u001b[1;33m)\u001b[0m\u001b[1;33m,\u001b[0m\u001b[1;33m\u001b[0m\u001b[1;33m\u001b[0m\u001b[0m\n\u001b[0;32m      8\u001b[0m               ])\n\u001b[1;32m----> 9\u001b[1;33m \u001b[0mnb\u001b[0m\u001b[1;33m.\u001b[0m\u001b[0mfit\u001b[0m\u001b[1;33m(\u001b[0m\u001b[0mX_train\u001b[0m\u001b[1;33m,\u001b[0m \u001b[0my_train\u001b[0m\u001b[1;33m)\u001b[0m\u001b[1;33m\u001b[0m\u001b[1;33m\u001b[0m\u001b[0m\n\u001b[0m\u001b[0;32m     10\u001b[0m \u001b[1;33m\u001b[0m\u001b[0m\n\u001b[0;32m     11\u001b[0m \u001b[0mget_ipython\u001b[0m\u001b[1;33m(\u001b[0m\u001b[1;33m)\u001b[0m\u001b[1;33m.\u001b[0m\u001b[0mrun_line_magic\u001b[0m\u001b[1;33m(\u001b[0m\u001b[1;34m'%time'\u001b[0m\u001b[1;33m,\u001b[0m \u001b[1;34m''\u001b[0m\u001b[1;33m)\u001b[0m\u001b[1;33m\u001b[0m\u001b[1;33m\u001b[0m\u001b[0m\n",
      "\u001b[1;32m~\\Anaconda3\\envs\\tf-gpu\\lib\\site-packages\\sklearn\\pipeline.py\u001b[0m in \u001b[0;36mfit\u001b[1;34m(self, X, y, **fit_params)\u001b[0m\n\u001b[0;32m    265\u001b[0m         \u001b[0mXt\u001b[0m\u001b[1;33m,\u001b[0m \u001b[0mfit_params\u001b[0m \u001b[1;33m=\u001b[0m \u001b[0mself\u001b[0m\u001b[1;33m.\u001b[0m\u001b[0m_fit\u001b[0m\u001b[1;33m(\u001b[0m\u001b[0mX\u001b[0m\u001b[1;33m,\u001b[0m \u001b[0my\u001b[0m\u001b[1;33m,\u001b[0m \u001b[1;33m**\u001b[0m\u001b[0mfit_params\u001b[0m\u001b[1;33m)\u001b[0m\u001b[1;33m\u001b[0m\u001b[1;33m\u001b[0m\u001b[0m\n\u001b[0;32m    266\u001b[0m         \u001b[1;32mif\u001b[0m \u001b[0mself\u001b[0m\u001b[1;33m.\u001b[0m\u001b[0m_final_estimator\u001b[0m \u001b[1;32mis\u001b[0m \u001b[1;32mnot\u001b[0m \u001b[1;32mNone\u001b[0m\u001b[1;33m:\u001b[0m\u001b[1;33m\u001b[0m\u001b[1;33m\u001b[0m\u001b[0m\n\u001b[1;32m--> 267\u001b[1;33m             \u001b[0mself\u001b[0m\u001b[1;33m.\u001b[0m\u001b[0m_final_estimator\u001b[0m\u001b[1;33m.\u001b[0m\u001b[0mfit\u001b[0m\u001b[1;33m(\u001b[0m\u001b[0mXt\u001b[0m\u001b[1;33m,\u001b[0m \u001b[0my\u001b[0m\u001b[1;33m,\u001b[0m \u001b[1;33m**\u001b[0m\u001b[0mfit_params\u001b[0m\u001b[1;33m)\u001b[0m\u001b[1;33m\u001b[0m\u001b[1;33m\u001b[0m\u001b[0m\n\u001b[0m\u001b[0;32m    268\u001b[0m         \u001b[1;32mreturn\u001b[0m \u001b[0mself\u001b[0m\u001b[1;33m\u001b[0m\u001b[1;33m\u001b[0m\u001b[0m\n\u001b[0;32m    269\u001b[0m \u001b[1;33m\u001b[0m\u001b[0m\n",
      "\u001b[1;32m~\\Anaconda3\\envs\\tf-gpu\\lib\\site-packages\\sklearn\\naive_bayes.py\u001b[0m in \u001b[0;36mfit\u001b[1;34m(self, X, y, sample_weight)\u001b[0m\n\u001b[0;32m    583\u001b[0m         \u001b[0mself\u001b[0m \u001b[1;33m:\u001b[0m \u001b[0mobject\u001b[0m\u001b[1;33m\u001b[0m\u001b[1;33m\u001b[0m\u001b[0m\n\u001b[0;32m    584\u001b[0m         \"\"\"\n\u001b[1;32m--> 585\u001b[1;33m         \u001b[0mX\u001b[0m\u001b[1;33m,\u001b[0m \u001b[0my\u001b[0m \u001b[1;33m=\u001b[0m \u001b[0mcheck_X_y\u001b[0m\u001b[1;33m(\u001b[0m\u001b[0mX\u001b[0m\u001b[1;33m,\u001b[0m \u001b[0my\u001b[0m\u001b[1;33m,\u001b[0m \u001b[1;34m'csr'\u001b[0m\u001b[1;33m)\u001b[0m\u001b[1;33m\u001b[0m\u001b[1;33m\u001b[0m\u001b[0m\n\u001b[0m\u001b[0;32m    586\u001b[0m         \u001b[0m_\u001b[0m\u001b[1;33m,\u001b[0m \u001b[0mn_features\u001b[0m \u001b[1;33m=\u001b[0m \u001b[0mX\u001b[0m\u001b[1;33m.\u001b[0m\u001b[0mshape\u001b[0m\u001b[1;33m\u001b[0m\u001b[1;33m\u001b[0m\u001b[0m\n\u001b[0;32m    587\u001b[0m \u001b[1;33m\u001b[0m\u001b[0m\n",
      "\u001b[1;32m~\\Anaconda3\\envs\\tf-gpu\\lib\\site-packages\\sklearn\\utils\\validation.py\u001b[0m in \u001b[0;36mcheck_X_y\u001b[1;34m(X, y, accept_sparse, accept_large_sparse, dtype, order, copy, force_all_finite, ensure_2d, allow_nd, multi_output, ensure_min_samples, ensure_min_features, y_numeric, warn_on_dtype, estimator)\u001b[0m\n\u001b[0;32m    754\u001b[0m                     \u001b[0mensure_min_features\u001b[0m\u001b[1;33m=\u001b[0m\u001b[0mensure_min_features\u001b[0m\u001b[1;33m,\u001b[0m\u001b[1;33m\u001b[0m\u001b[1;33m\u001b[0m\u001b[0m\n\u001b[0;32m    755\u001b[0m                     \u001b[0mwarn_on_dtype\u001b[0m\u001b[1;33m=\u001b[0m\u001b[0mwarn_on_dtype\u001b[0m\u001b[1;33m,\u001b[0m\u001b[1;33m\u001b[0m\u001b[1;33m\u001b[0m\u001b[0m\n\u001b[1;32m--> 756\u001b[1;33m                     estimator=estimator)\n\u001b[0m\u001b[0;32m    757\u001b[0m     \u001b[1;32mif\u001b[0m \u001b[0mmulti_output\u001b[0m\u001b[1;33m:\u001b[0m\u001b[1;33m\u001b[0m\u001b[1;33m\u001b[0m\u001b[0m\n\u001b[0;32m    758\u001b[0m         y = check_array(y, 'csr', force_all_finite=True, ensure_2d=False,\n",
      "\u001b[1;32m~\\Anaconda3\\envs\\tf-gpu\\lib\\site-packages\\sklearn\\utils\\validation.py\u001b[0m in \u001b[0;36mcheck_array\u001b[1;34m(array, accept_sparse, accept_large_sparse, dtype, order, copy, force_all_finite, ensure_2d, allow_nd, ensure_min_samples, ensure_min_features, warn_on_dtype, estimator)\u001b[0m\n\u001b[0;32m    525\u001b[0m             \u001b[1;32mtry\u001b[0m\u001b[1;33m:\u001b[0m\u001b[1;33m\u001b[0m\u001b[1;33m\u001b[0m\u001b[0m\n\u001b[0;32m    526\u001b[0m                 \u001b[0mwarnings\u001b[0m\u001b[1;33m.\u001b[0m\u001b[0msimplefilter\u001b[0m\u001b[1;33m(\u001b[0m\u001b[1;34m'error'\u001b[0m\u001b[1;33m,\u001b[0m \u001b[0mComplexWarning\u001b[0m\u001b[1;33m)\u001b[0m\u001b[1;33m\u001b[0m\u001b[1;33m\u001b[0m\u001b[0m\n\u001b[1;32m--> 527\u001b[1;33m                 \u001b[0marray\u001b[0m \u001b[1;33m=\u001b[0m \u001b[0mnp\u001b[0m\u001b[1;33m.\u001b[0m\u001b[0masarray\u001b[0m\u001b[1;33m(\u001b[0m\u001b[0marray\u001b[0m\u001b[1;33m,\u001b[0m \u001b[0mdtype\u001b[0m\u001b[1;33m=\u001b[0m\u001b[0mdtype\u001b[0m\u001b[1;33m,\u001b[0m \u001b[0morder\u001b[0m\u001b[1;33m=\u001b[0m\u001b[0morder\u001b[0m\u001b[1;33m)\u001b[0m\u001b[1;33m\u001b[0m\u001b[1;33m\u001b[0m\u001b[0m\n\u001b[0m\u001b[0;32m    528\u001b[0m             \u001b[1;32mexcept\u001b[0m \u001b[0mComplexWarning\u001b[0m\u001b[1;33m:\u001b[0m\u001b[1;33m\u001b[0m\u001b[1;33m\u001b[0m\u001b[0m\n\u001b[0;32m    529\u001b[0m                 raise ValueError(\"Complex data not supported\\n\"\n",
      "\u001b[1;32m~\\Anaconda3\\envs\\tf-gpu\\lib\\site-packages\\numpy\\core\\numeric.py\u001b[0m in \u001b[0;36masarray\u001b[1;34m(a, dtype, order)\u001b[0m\n\u001b[0;32m    536\u001b[0m \u001b[1;33m\u001b[0m\u001b[0m\n\u001b[0;32m    537\u001b[0m     \"\"\"\n\u001b[1;32m--> 538\u001b[1;33m     \u001b[1;32mreturn\u001b[0m \u001b[0marray\u001b[0m\u001b[1;33m(\u001b[0m\u001b[0ma\u001b[0m\u001b[1;33m,\u001b[0m \u001b[0mdtype\u001b[0m\u001b[1;33m,\u001b[0m \u001b[0mcopy\u001b[0m\u001b[1;33m=\u001b[0m\u001b[1;32mFalse\u001b[0m\u001b[1;33m,\u001b[0m \u001b[0morder\u001b[0m\u001b[1;33m=\u001b[0m\u001b[0morder\u001b[0m\u001b[1;33m)\u001b[0m\u001b[1;33m\u001b[0m\u001b[1;33m\u001b[0m\u001b[0m\n\u001b[0m\u001b[0;32m    539\u001b[0m \u001b[1;33m\u001b[0m\u001b[0m\n\u001b[0;32m    540\u001b[0m \u001b[1;33m\u001b[0m\u001b[0m\n",
      "\u001b[1;31mValueError\u001b[0m: setting an array element with a sequence."
     ]
    }
   ],
   "source": [
    "from sklearn.naive_bayes import MultinomialNB\n",
    "from sklearn.pipeline import Pipeline\n",
    "from sklearn.feature_extraction.text import TfidfTransformer\n",
    "\n",
    "nb = Pipeline([\n",
    "               \n",
    "               ('clf', MultinomialNB()),\n",
    "              ])\n",
    "nb.fit(X_train, y_train)\n",
    "\n",
    "%%time\n",
    "from sklearn.metrics import classification_report\n",
    "y_pred = nb.predict(X_test)\n",
    "\n",
    "print('accuracy %s' % accuracy_score(y_pred, y_test))\n",
    "print(classification_report(y_test, y_pred,target_names=my_tags))"
   ]
  },
  {
   "cell_type": "code",
   "execution_count": 82,
   "metadata": {},
   "outputs": [
    {
     "ename": "TypeError",
     "evalue": "list indices must be integers or slices, not str",
     "output_type": "error",
     "traceback": [
      "\u001b[1;31m---------------------------------------------------------------------------\u001b[0m",
      "\u001b[1;31mTypeError\u001b[0m                                 Traceback (most recent call last)",
      "\u001b[1;32m<ipython-input-82-704eb988e6e8>\u001b[0m in \u001b[0;36m<module>\u001b[1;34m\u001b[0m\n\u001b[0;32m      1\u001b[0m \u001b[0mauthor_name\u001b[0m \u001b[1;33m=\u001b[0m \u001b[1;33m{\u001b[0m\u001b[1;34m'pos'\u001b[0m\u001b[1;33m:\u001b[0m\u001b[1;36m0\u001b[0m\u001b[1;33m,\u001b[0m\u001b[1;34m'neg'\u001b[0m\u001b[1;33m:\u001b[0m\u001b[1;36m1\u001b[0m\u001b[1;33m,\u001b[0m\u001b[1;34m'nue'\u001b[0m\u001b[1;33m:\u001b[0m\u001b[1;36m2\u001b[0m\u001b[1;33m}\u001b[0m\u001b[1;33m\u001b[0m\u001b[1;33m\u001b[0m\u001b[0m\n\u001b[1;32m----> 2\u001b[1;33m \u001b[0my\u001b[0m \u001b[1;33m=\u001b[0m \u001b[0mtrain_text\u001b[0m\u001b[1;33m[\u001b[0m\u001b[1;33m:\u001b[0m\u001b[1;36m100\u001b[0m\u001b[1;33m]\u001b[0m\u001b[1;33m[\u001b[0m\u001b[1;34m'label'\u001b[0m\u001b[1;33m]\u001b[0m\u001b[1;33m.\u001b[0m\u001b[0mmap\u001b[0m\u001b[1;33m(\u001b[0m\u001b[0mauthor_name\u001b[0m\u001b[1;33m)\u001b[0m\u001b[1;33m\u001b[0m\u001b[1;33m\u001b[0m\u001b[0m\n\u001b[0m",
      "\u001b[1;31mTypeError\u001b[0m: list indices must be integers or slices, not str"
     ]
    }
   ],
   "source": [
    "author_name = {'pos':0,'neg':1,'nue':2}\n",
    "y = train_text[:100]['label'].map(author_name) "
   ]
  },
  {
   "cell_type": "code",
   "execution_count": 81,
   "metadata": {},
   "outputs": [
    {
     "name": "stdout",
     "output_type": "stream",
     "text": [
      "1 of KFlod 10\n"
     ]
    },
    {
     "ename": "NameError",
     "evalue": "name 'X_cv' is not defined",
     "output_type": "error",
     "traceback": [
      "\u001b[1;31m---------------------------------------------------------------------------\u001b[0m",
      "\u001b[1;31mNameError\u001b[0m                                 Traceback (most recent call last)",
      "\u001b[1;32m<ipython-input-81-2a652ea12535>\u001b[0m in \u001b[0;36m<module>\u001b[1;34m\u001b[0m\n\u001b[0;32m      7\u001b[0m \u001b[1;32mfor\u001b[0m \u001b[0mtrain_index\u001b[0m\u001b[1;33m,\u001b[0m\u001b[0mtest_index\u001b[0m \u001b[1;32min\u001b[0m \u001b[0mkf\u001b[0m\u001b[1;33m.\u001b[0m\u001b[0msplit\u001b[0m\u001b[1;33m(\u001b[0m\u001b[0mfeatures_data\u001b[0m\u001b[1;33m)\u001b[0m\u001b[1;33m:\u001b[0m\u001b[1;33m\u001b[0m\u001b[1;33m\u001b[0m\u001b[0m\n\u001b[0;32m      8\u001b[0m     \u001b[0mprint\u001b[0m\u001b[1;33m(\u001b[0m\u001b[1;34m'{} of KFlod {}'\u001b[0m\u001b[1;33m.\u001b[0m\u001b[0mformat\u001b[0m\u001b[1;33m(\u001b[0m\u001b[0mi\u001b[0m\u001b[1;33m,\u001b[0m\u001b[0mkf\u001b[0m\u001b[1;33m.\u001b[0m\u001b[0mn_splits\u001b[0m\u001b[1;33m)\u001b[0m\u001b[1;33m)\u001b[0m\u001b[1;33m\u001b[0m\u001b[1;33m\u001b[0m\u001b[0m\n\u001b[1;32m----> 9\u001b[1;33m     \u001b[0mxtr\u001b[0m\u001b[1;33m,\u001b[0m\u001b[0mxvl\u001b[0m \u001b[1;33m=\u001b[0m \u001b[0mX_cv\u001b[0m\u001b[1;33m[\u001b[0m\u001b[0mtrain_index\u001b[0m\u001b[1;33m]\u001b[0m\u001b[1;33m,\u001b[0m \u001b[0mX_cv\u001b[0m\u001b[1;33m[\u001b[0m\u001b[0mtest_index\u001b[0m\u001b[1;33m]\u001b[0m\u001b[1;33m\u001b[0m\u001b[1;33m\u001b[0m\u001b[0m\n\u001b[0m\u001b[0;32m     10\u001b[0m     \u001b[0mytr\u001b[0m\u001b[1;33m,\u001b[0m\u001b[0myvl\u001b[0m \u001b[1;33m=\u001b[0m \u001b[0my\u001b[0m\u001b[1;33m[\u001b[0m\u001b[0mtrain_index\u001b[0m\u001b[1;33m]\u001b[0m\u001b[1;33m,\u001b[0m \u001b[0my\u001b[0m\u001b[1;33m[\u001b[0m\u001b[0mtest_index\u001b[0m\u001b[1;33m]\u001b[0m\u001b[1;33m\u001b[0m\u001b[1;33m\u001b[0m\u001b[0m\n\u001b[0;32m     11\u001b[0m \u001b[1;33m\u001b[0m\u001b[0m\n",
      "\u001b[1;31mNameError\u001b[0m: name 'X_cv' is not defined"
     ]
    }
   ],
   "source": [
    "mNB = MultinomialNB()\n",
    "\n",
    "kf = KFold(n_splits=10,shuffle=True,random_state=49)\n",
    "pred_test_full = 0\n",
    "cv_score = []\n",
    "i=1\n",
    "for train_index,test_index in kf.split(features_data):\n",
    "    print('{} of KFlod {}'.format(i,kf.n_splits))    \n",
    "    xtr,xvl = features_data[train_index], features_data[test_index]\n",
    "    ytr,yvl = y[train_index], y[test_index]\n",
    "    \n",
    "    mNB.fit(xtr,ytr)\n",
    "    y_mNB = mNB.predict(xvl)\n",
    "    cv_score.append(log_loss(yvl,mNB.predict_proba(xvl)))    \n",
    "    pred_test_full += mNB.predict_proba(X_test_cv)\n",
    "    i+=1\n",
    "#roc_auc_score(yvl,mNB.predict_proba(xvl)[:,1]) # not for multi class\n",
    "print(cv_score)\n",
    "print('Mean accuracy score',np.mean(cv_score))\n",
    "print('confusion matrix:\\n',confusion_matrix(yvl,y_mNB))\n",
    "del xtr,ytr,xvl,yvl"
   ]
  },
  {
   "cell_type": "code",
   "execution_count": null,
   "metadata": {},
   "outputs": [],
   "source": []
  }
 ],
 "metadata": {
  "kernelspec": {
   "display_name": "Python 3",
   "language": "python",
   "name": "python3"
  },
  "language_info": {
   "codemirror_mode": {
    "name": "ipython",
    "version": 3
   },
   "file_extension": ".py",
   "mimetype": "text/x-python",
   "name": "python",
   "nbconvert_exporter": "python",
   "pygments_lexer": "ipython3",
   "version": "3.6.7"
  }
 },
 "nbformat": 4,
 "nbformat_minor": 2
}
